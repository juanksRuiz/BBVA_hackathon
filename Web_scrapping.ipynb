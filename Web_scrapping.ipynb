{
 "cells": [
  {
   "cell_type": "markdown",
   "metadata": {},
   "source": [
    "# Links de ayuda\n",
    "https://stackoverflow.com/questions/9662346/python-code-to-remove-html-tags-from-a-string"
   ]
  },
  {
   "cell_type": "markdown",
   "metadata": {},
   "source": [
    "## Objetivo:\n",
    "Implenetar codigo que permita obtener una valoracion de la percepción de las personas sobre BBVA y sus principales competidores.\n",
    "## Estructura\n",
    "1. Seleccionar las paginas donde creemos que encontraremos informacion valiosa de BBVA\n",
    "2. Extraer textos para cada una de estas páginas\n",
    "3. Preprocesar texto obtenido\n",
    "4. Realizar análisis de sentimiento"
   ]
  },
  {
   "cell_type": "markdown",
   "metadata": {},
   "source": [
    "## Apuntes\n",
    "- **Holding**: El holding es una forma de organización o agrupación de empresas en la que una compañía adquiere todas o la mayor parte de las acciones de otra empresa con el único fin de poseer el control total sobre la otra empresa.\n",
    "- **Pregunta: ¿Cómo percibe la sociedad a BBVA y qué impacto tienen las acciones que emprende en respuesta a la crisis ocasionada por el COVID-19?**\n",
    "- Van a entregar información estática para hacer el codigo\n",
    "- Evitar sesgos de donde se extraiga la informacion\n",
    "-  Innovación: 25%\n",
    "- Ejecucion: 40%\n",
    "- Resuelve la problematica: 25%\n",
    "- Usabilidad: 10%\n",
    "\n",
    "- Pensar en una geografía especifica (si global mejor)\n",
    "- Que sea entendible facilmente para un grupo o departamento del banco (grupo de interés)\n",
    "- Facebook, Twitter\n",
    "\n",
    "\n",
    "## Entrega\n",
    "- **Dashboard** en el cual podemos visualizar la percepción que tiene la sociedad de **BBVA** y de **nuestros principales competidores**\n",
    "- La escucha puede hacerse desde distintas perspectivas:( por segmento de clientes, por red social, por geografía)\n",
    "- **Metodología**: NLP y Sentiment analysis"
   ]
  },
  {
   "cell_type": "code",
   "execution_count": 127,
   "metadata": {},
   "outputs": [],
   "source": [
    "# paquete para leer archivos html\n",
    "import bs4\n",
    "# urllib es unpaquete para acceder a contenido de paginas por medio de URL\n",
    "from urllib.request import urlopen\n",
    "from bs4 import BeautifulSoup as soup\n",
    "\n",
    "import nltk"
   ]
  },
  {
   "cell_type": "code",
   "execution_count": 116,
   "metadata": {},
   "outputs": [],
   "source": [
    "url_opiniones = \"https://www.helpmycash.com/opiniones/banco/bbva/\"\n",
    "# Abre la conexion para alcanzar la página y descargarla\n",
    "uClient = uReq(url_opiniones)\n",
    "\n",
    "def get_soup(url,pars):\n",
    "    \"\"\"\n",
    "    Retorna una sopa de caracteres de la pagina leída en formato especificado\n",
    "    args:\n",
    "        url: url de la pagina\n",
    "        pars: string de tipo de formato en el cual se va a leer la pagina (html o xml)\n",
    "    returns:\n",
    "        objeto de tipo BeautifulSoup con su contenido\n",
    "    \"\"\"\n",
    "    #myURL = url\n",
    "    uClient = urlopen(url)\n",
    "    page = uClient.read()\n",
    "    uClient.close()\n",
    "    page_soup = soup(page,pars)\n",
    "    return page_soup"
   ]
  },
  {
   "cell_type": "code",
   "execution_count": 117,
   "metadata": {},
   "outputs": [],
   "source": [
    "page_soup = get_soup(url_opiniones,\"html.parser\")"
   ]
  },
  {
   "cell_type": "code",
   "execution_count": 118,
   "metadata": {},
   "outputs": [],
   "source": [
    "# seleccionamos la lectura (podria ser xml parser)\n",
    "#page_soup = soup(page_html,\"html.parser\")"
   ]
  },
  {
   "cell_type": "code",
   "execution_count": 119,
   "metadata": {},
   "outputs": [],
   "source": [
    "#bar_content=page_soup.findAll(\"p\",{\"style\":\"text-align: justify;\"})\n",
    "tag = \"div\"\n",
    "atributo = \"class\"\n",
    "value = \"card-text my-3 mt-sm-0 px-0 px-sm-4\"\n",
    "opiniones = page_soup.findAll(tag,{atributo:value})"
   ]
  },
  {
   "cell_type": "code",
   "execution_count": 120,
   "metadata": {},
   "outputs": [
    {
     "data": {
      "text/plain": [
       "20"
      ]
     },
     "execution_count": 120,
     "metadata": {},
     "output_type": "execute_result"
    }
   ],
   "source": [
    "len(opiniones)"
   ]
  },
  {
   "cell_type": "code",
   "execution_count": 133,
   "metadata": {},
   "outputs": [
    {
     "data": {
      "text/plain": [
       "[<div class=\"card-text my-3 mt-sm-0 px-0 px-sm-4\">\n",
       " <a class=\"pr-3\" href=\"https://www.helpmycash.com/cuentas/bbva/cuenta-online/\">Opinión sobre Cuenta Online Sin Comisiones</a>\n",
       " <br/>\n",
       "                                     Incompetentes, Mi pareja obtuvo la nacionalidad, y lleva 4 meses intentanto le cambien el NIE por el DNI y no lo ha logrado, online no se lo resuelven y la mandan a digitalizar el DNI a a oficina fisica, donde no se lo quieren hacer por no tener cita que debe obtener a traves de su gestor online que nunca la llama ni se la da. Muy facil abrir una cuenta, no hace falta digitalizar y ahora es imposible. Solucion, cerramos la cuenta y que les ****\n",
       "                                 </div>,\n",
       " <div class=\"card-text my-3 mt-sm-0 px-0 px-sm-4\">\n",
       " <a class=\"pr-3\" href=\"https://www.helpmycash.com/banco/bbva/\">Opinión sobre BBVA</a>\n",
       " <br/>\n",
       "                                     Atención penosa de el cajero y el personal de oficina.bbva de la calzada ****. No me extraña q los clientes cambien de banco.\n",
       "                                 </div>,\n",
       " <div class=\"card-text my-3 mt-sm-0 px-0 px-sm-4\">\n",
       " <a class=\"pr-3\" href=\"https://www.helpmycash.com/banco/bbva/\">Opinión sobre BBVA</a>\n",
       " <br/>\n",
       "                                     Publicidad engañosa la de BBVA, me ofrecen una cuenta nómina va contigo, y me ofrecen anticipo de nomina y servicio de descubierto, primero me lo activan y ahora me dejan tirado, teniendo nomina con ellos, sin contar que la atención es pésima.\n",
       "                                 </div>,\n",
       " <div class=\"card-text my-3 mt-sm-0 px-0 px-sm-4\">\n",
       " <a class=\"pr-3\" href=\"https://www.helpmycash.com/cat/oficinas-de-banco/bbva/plaza-del-llano-11-y-13/\">Opinión sobre Oficina 1680 en Cantillana</a>\n",
       " <br/>\n",
       "                                     Sin flexibilidad en la atención al cliente\n",
       "                                 </div>,\n",
       " <div class=\"card-text my-3 mt-sm-0 px-0 px-sm-4\">\n",
       " <a class=\"pr-3\" href=\"https://www.helpmycash.com/hipotecas/bbva/hipoteca-fija/\">Opinión sobre Hipoteca Fija</a>\n",
       " <br/>\n",
       "                                     no hay nadie que tenga un interes tan bajo. incluso con los seguros sale barata\n",
       "                                 </div>,\n",
       " <div class=\"card-text my-3 mt-sm-0 px-0 px-sm-4\">\n",
       " <a class=\"pr-3\" href=\"https://www.helpmycash.com/banco/bbva/\">Opinión sobre BBVA</a>\n",
       " <br/>\n",
       "                                     Hoy a las 8.30voy con mi madre 84 años a quitar dinero el cajero se queda con la libreta la persona q está en caja dice q vuelva de 12 a 12.30 porq le cuesta mucho levantarse para cogerla en el cajero como ya ha ocurrido más veces pero el no hace eso eso lo hará el otro chico, no es la primera vez q este empleado no quiere hacer su trabajo en otra ocasión quise poner a mi hija en mi cuenta y no podía me fui a otra sucursal me lo hicieron en el momento. En ****\n",
       "                                 </div>,\n",
       " <div class=\"card-text my-3 mt-sm-0 px-0 px-sm-4\">\n",
       " <a class=\"pr-3\" href=\"https://www.helpmycash.com/creditos/bbva/prestamo-especial-muface/\">Opinión sobre Préstamo Especial MUFACE</a>\n",
       " <br/>\n",
       " <p>BAJA el TIN del 4,75% al 4,25% y la TAE del 4,93% al 4,48%. </p>\n",
       " </div>,\n",
       " <div class=\"card-text my-3 mt-sm-0 px-0 px-sm-4\">\n",
       " <a class=\"pr-3\" href=\"https://www.helpmycash.com/tarjetas/bbva/tarjeta-antes/\">Opinión sobre Tarjeta Antes</a>\n",
       " <br/>\n",
       "                                     He recargado la tarjeta y ha desaparecido el dinero!!!!! No sale ni en la tarjeta ni en la cuenta\n",
       "                                 </div>,\n",
       " <div class=\"card-text my-3 mt-sm-0 px-0 px-sm-4\">\n",
       " <a class=\"pr-3\" href=\"https://www.helpmycash.com/banco/bbva/\">Opinión sobre BBVA</a>\n",
       " <br/>\n",
       "                                     El peor banco que puedes conseguir, ninguna plataforma funciona. Ni la pagina web, ni las aplicaciones del celular. En plena pandemia se ufanan de tener herramientas sofisticadas y sin embargo te envían al banco a hacer transacciones en plena pandemia. Las líneas de atención telefonicas, inexistentes, nunca te contestan. Y el asesor virtual de la pagina es un robot con respuestas automaticas que no solucionan nada.\n",
       "                                 </div>,\n",
       " <div class=\"card-text my-3 mt-sm-0 px-0 px-sm-4\">\n",
       " <a class=\"pr-3\" href=\"https://www.helpmycash.com/banco/bbva/\">Opinión sobre BBVA</a>\n",
       " <br/>\n",
       "                                     Yo no lo recomiendo, me cobraron una comisión sin decírmelo ni asesorarme y no me la devuelven. Voy a cerrar todas mis cuentas\n",
       "                                 </div>,\n",
       " <div class=\"card-text my-3 mt-sm-0 px-0 px-sm-4\">\n",
       " <a class=\"pr-3\" href=\"https://www.helpmycash.com/hipotecas/bbva/hipoteca-fija-muface-bbva/\">Opinión sobre Hipoteca Fija MUFACE BBVA</a>\n",
       " <br/>\n",
       " <p>NUEVA bonificación inicial de 860 euros.</p>\n",
       " </div>,\n",
       " <div class=\"card-text my-3 mt-sm-0 px-0 px-sm-4\">\n",
       " <a class=\"pr-3\" href=\"https://www.helpmycash.com/hipotecas/bbva/hipoteca-fija-muface-bbva/\">Opinión sobre Hipoteca Fija MUFACE BBVA</a>\n",
       " <br/>\n",
       " <p>NUEVO interés del 2,70% a 30 años, bonificado a partir del segundo año por domiciliar la nómina. Antes era de entre el 1% y el 1,45% a cambio de domiciliar la nómina y contratar un seguro de hogar y otro de amortización.</p>\n",
       " </div>,\n",
       " <div class=\"card-text my-3 mt-sm-0 px-0 px-sm-4\">\n",
       " <a class=\"pr-3\" href=\"https://www.helpmycash.com/cuentas/bbva/cuenta-online/\">Opinión sobre Cuenta Online Sin Comisiones</a>\n",
       " <br/>\n",
       "                                     A los 2 meses me **** la madrugada del 18 Agosto,sin tocar el smartphone , ninguna aplicación está asegurada , hackers o quienes fueran entraron y saquearon mi cuenta bancaria online BBVA\n",
       "                                 </div>,\n",
       " <div class=\"card-text my-3 mt-sm-0 px-0 px-sm-4\">\n",
       " <a class=\"pr-3\" href=\"https://www.helpmycash.com/tarjetas/bbva/tarjeta-antes/\">Opinión sobre Tarjeta Antes</a>\n",
       " <br/>\n",
       "                                     Desaparece el dinero sin ninguna operación, el dinero un dia esta y al siguiente no, y no aparece ningún movimiento\n",
       "                                 </div>,\n",
       " <div class=\"card-text my-3 mt-sm-0 px-0 px-sm-4\">\n",
       " <a class=\"pr-3\" href=\"https://www.helpmycash.com/hipotecas/bbva/hipoteca-muface-bbva/\">Opinión sobre Hipoteca MUFACE BBVA</a>\n",
       " <br/>\n",
       " <p>BAJA el plazo máximo de 40 a 30 años para primera vivienda. </p>\n",
       " </div>,\n",
       " <div class=\"card-text my-3 mt-sm-0 px-0 px-sm-4\">\n",
       " <a class=\"pr-3\" href=\"https://www.helpmycash.com/hipotecas/bbva/hipoteca-muface-bbva/\">Opinión sobre Hipoteca MUFACE BBVA</a>\n",
       " <br/>\n",
       " <p>ELIMINADA la comisión de apertura del 0,25% para primera vivienda. </p>\n",
       " </div>,\n",
       " <div class=\"card-text my-3 mt-sm-0 px-0 px-sm-4\">\n",
       " <a class=\"pr-3\" href=\"https://www.helpmycash.com/hipotecas/bbva/hipoteca-muface-bbva/\">Opinión sobre Hipoteca MUFACE BBVA</a>\n",
       " <br/>\n",
       " <p>BAJAN el interés fijo inicial del 0,71% al 0,63% y el interés posterior sin bonificar de euríbor más 1,99% a euríbor más 1,24% (para primera vivienda). </p>\n",
       " </div>,\n",
       " <div class=\"card-text my-3 mt-sm-0 px-0 px-sm-4\">\n",
       " <a class=\"pr-3\" href=\"https://www.helpmycash.com/cuentas/bbva/cuenta-joven/\">Opinión sobre Cuenta Online para Jóvenes BBVA</a>\n",
       " <br/>\n",
       "                                     Me aperture esta cuenta \"sin comisiones\" luego me la cambiaron sin avisar a otro producto con comisiones y no quieren devolverme el dinero que me cobraron indebidamente.\n",
       "                                 </div>,\n",
       " <div class=\"card-text my-3 mt-sm-0 px-0 px-sm-4\">\n",
       " <a class=\"pr-3\" href=\"https://www.helpmycash.com/banco/bbva/\">Opinión sobre BBVA</a>\n",
       " <br/>\n",
       "                                     Cuenta Online\n",
       " Facil de abrir la cuenta. La app con todo lo premiada que ha sido, tengo que decir que la apariencia es poco seria y no puedes operar si eres autorizado, solo el titular. Esto no sucede con Bankia, Santander y EVO, que son las app que conozco. Una lastima.\n",
       " Por lo demas bien, de momento.\n",
       "                                 </div>,\n",
       " <div class=\"card-text my-3 mt-sm-0 px-0 px-sm-4\">\n",
       " <a class=\"pr-3\" href=\"https://www.helpmycash.com/banco/bbva/\">Opinión sobre BBVA</a>\n",
       " <br/>\n",
       "                                     Unos **** a la minima te cobran comisiones y no te molestes en reclamrñar que esta perdido. Mucho marketing y mucha palabreria pero son los mismo l**** de simepre. Ademas en las oficinas se limpian las manos y te ponen pegas para cualquier gestion. Noda recomedable abrir una vuenta con ellos.\n",
       "                                 </div>]"
      ]
     },
     "execution_count": 133,
     "metadata": {},
     "output_type": "execute_result"
    }
   ],
   "source": [
    "opiniones"
   ]
  },
  {
   "cell_type": "code",
   "execution_count": 121,
   "metadata": {},
   "outputs": [],
   "source": [
    "info = []\n",
    "split_text = []\n",
    "for i in range(len(opiniones)):\n",
    "    contenido = opiniones[i].text\n",
    "    if contenido != \"\":\n",
    "        #print(contenido)\n",
    "        info.append(contenido)\n",
    "        \n",
    "        #print(\"================================================\")"
   ]
  },
  {
   "cell_type": "code",
   "execution_count": 134,
   "metadata": {},
   "outputs": [
    {
     "data": {
      "text/plain": [
       "'\\nOpinión sobre Cuenta Online Sin Comisiones\\n\\n                                    Incompetentes, Mi pareja obtuvo la nacionalidad, y lleva 4 meses intentanto le cambien el NIE por el DNI y no lo ha logrado, online no se lo resuelven y la mandan a digitalizar el DNI a a oficina fisica, donde no se lo quieren hacer por no tener cita que debe obtener a traves de su gestor online que nunca la llama ni se la da. Muy facil abrir una cuenta, no hace falta digitalizar y ahora es imposible. Solucion, cerramos la cuenta y que les ****\\n                                '"
      ]
     },
     "execution_count": 134,
     "metadata": {},
     "output_type": "execute_result"
    }
   ],
   "source": [
    "info[0]"
   ]
  },
  {
   "cell_type": "code",
   "execution_count": 132,
   "metadata": {},
   "outputs": [
    {
     "name": "stdout",
     "output_type": "stream",
     "text": [
      "['\\nOpinión', 'sobre', 'Cuenta', 'Online', 'Sin', 'Comisiones\\n\\n', 'Incompetentes,', 'Mi', 'pareja', 'obtuvo', 'la', 'nacionalidad,', 'y', 'lleva', '4', 'meses', 'intentanto', 'le', 'cambien', 'el', 'NIE', 'por', 'el', 'DNI', 'y', 'no', 'lo', 'ha', 'logrado,', 'online', 'no', 'se', 'lo', 'resuelven', 'y', 'la', 'mandan', 'a', 'digitalizar', 'el', 'DNI', 'a', 'a', 'oficina', 'fisica,', 'donde', 'no', 'se', 'lo', 'quieren', 'hacer', 'por', 'no', 'tener', 'cita', 'que', 'debe', 'obtener', 'a', 'traves', 'de', 'su', 'gestor', 'online', 'que', 'nunca', 'la', 'llama', 'ni', 'se', 'la', 'da.', 'Muy', 'facil', 'abrir', 'una', 'cuenta,', 'no', 'hace', 'falta', 'digitalizar', 'y', 'ahora', 'es', 'imposible.', 'Solucion,', 'cerramos', 'la', 'cuenta', 'y', 'que', 'les', '****\\n']\n"
     ]
    }
   ],
   "source": [
    "a = info[0].split(\" \")\n",
    "a = [word for word in a if word != \"\"]\n",
    "print(a)"
   ]
  }
 ],
 "metadata": {
  "kernelspec": {
   "display_name": "Python 3",
   "language": "python",
   "name": "python3"
  },
  "language_info": {
   "codemirror_mode": {
    "name": "ipython",
    "version": 3
   },
   "file_extension": ".py",
   "mimetype": "text/x-python",
   "name": "python",
   "nbconvert_exporter": "python",
   "pygments_lexer": "ipython3",
   "version": "3.8.3"
  }
 },
 "nbformat": 4,
 "nbformat_minor": 4
}
