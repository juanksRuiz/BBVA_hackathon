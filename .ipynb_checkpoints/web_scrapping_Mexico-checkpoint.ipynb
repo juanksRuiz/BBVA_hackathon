{
 "cells": [
  {
   "cell_type": "code",
   "execution_count": 19,
   "metadata": {},
   "outputs": [],
   "source": [
    "# paquete para leer archivos html\n",
    "import bs4\n",
    "# urllib es unpaquete para acceder a contenido de paginas por medio de URL\n",
    "from urllib.request import urlopen,Request\n",
    "import urllib\n",
    "from bs4 import BeautifulSoup\n",
    "\n",
    "import numpy as np\n",
    "import pandas as pd"
   ]
  },
  {
   "cell_type": "code",
   "execution_count": 2,
   "metadata": {},
   "outputs": [],
   "source": [
    "## Funciones auxiliares\n",
    "def get_soup(url,pars):\n",
    "    \"\"\"\n",
    "    Retorna una sopa de caracteres de la pagina leída en formato especificado\n",
    "    args:\n",
    "        url: url de la pagina\n",
    "        pars: string de tipo de formato en el cual se va a leer la pagina (html o xml)\n",
    "    returns:\n",
    "        objeto de tipo BeautifulSoup con su contenido\n",
    "    \"\"\"\n",
    "    #myURL = url\n",
    "    uClient = urlopen(url)\n",
    "    page = uClient.read()\n",
    "    uClient.close()\n",
    "    page_soup = BeautifulSoup(page,pars)\n",
    "    return page_soup\n",
    "\n",
    "\n",
    "def get_opiniones(url_base,tag,atributo,valor,n_pags,conn):\n",
    "    \"\"\"\n",
    "    Consigue todas las opiniones de una URL del foro\n",
    "    \n",
    "    args:\n",
    "        url_base: url base que se concatena con el indice de la pagina\n",
    "        tag: etiqueta del html donde se encuentra el texto buscado\n",
    "        atributo: atributo del objeto con etiqueta tag\n",
    "        valor: valor del atributo\n",
    "        n_pags: numero maximo de paginas de comentarios maximo a considerar\n",
    "    \n",
    "    returns:\n",
    "        lista con opiniones\n",
    "    \"\"\"\n",
    "    print(url_base)\n",
    "    opiniones = []\n",
    "    print(\"Explorando paginas...\")\n",
    "    for i in range(1,n_pags+1):\n",
    "        #print(\"Pagina: \",i)\n",
    "        URL = url_base + conn + str(i) # \"?page=\" o \n",
    "        soup = get_soup(URL,\"html.parser\")\n",
    "        ops_pg = soup.findAll(tag,{atributo:value})\n",
    "        for op in ops_pg:\n",
    "            opiniones.append(op.text.replace('\\n',''))\n",
    "        #print(\"========================================\")    \n",
    "    print(\"Terminado!\")\n",
    "    return opiniones\n"
   ]
  },
  {
   "cell_type": "markdown",
   "metadata": {},
   "source": [
    "## BBVA"
   ]
  },
  {
   "cell_type": "code",
   "execution_count": 3,
   "metadata": {},
   "outputs": [],
   "source": [
    "url_bbva = \"https://www.amazon.com.mx/BBVA-Bancomer-BBVA-Bancomer/product-reviews/B07K7X7JFP\"\n",
    "soup = get_soup(url_bbva,\"html.parser\")\n",
    "# https://www.amazon.com.mx/BBVA-Bancomer-BBVA-Bancomer/product-reviews/B07K7X7JFP"
   ]
  },
  {
   "cell_type": "code",
   "execution_count": 4,
   "metadata": {},
   "outputs": [],
   "source": [
    "tag1 = \"a\"\n",
    "atributo1 = \"data-hook\"\n",
    "valor1 = \"review-title\"\n",
    "\n",
    "tag2 = \"span\"\n",
    "atributo2 = \"class\"\n",
    "valor2 = \"a-size-base review-text review-text-content\"\n",
    "\n",
    "\n",
    "opiniones_bbva = []\n",
    "\n",
    "ops_bbva_1 = soup.findAll(tag1,{atributo1:valor1})\n",
    "ops_bbva_2 = soup.findAll(tag2,{atributo2:valor2})"
   ]
  },
  {
   "cell_type": "code",
   "execution_count": 5,
   "metadata": {},
   "outputs": [],
   "source": [
    "# Correr una sola vez sino desde celdas de arriba\n",
    "for i in range(len(ops_bbva_1)):\n",
    "    opiniones_bbva.append(ops_bbva_1[i].text + \". \" + ops_bbva_2[i].text)\n",
    "    \n",
    "opiniones_bbva = [o.replace('\\n','') for o in opiniones_bbva]"
   ]
  },
  {
   "cell_type": "code",
   "execution_count": 6,
   "metadata": {},
   "outputs": [
    {
     "data": {
      "text/plain": [
       "['Me encanta! Puedo obtener el tipo de cambio rápidamente..   Puedo obtener el tipo de cambio rápidamente y me da tips financieros.',\n",
       " 'BBVA el banco digital.   Excelente skill, puedes mantenerte al día de indicadores bancarios de inmediato. Se debería poder hacer parte de las rutinas y deberían agregar más funciones',\n",
       " 'mala ubicacion de sucursales.   Solo reconoce algunos c.p. En la mayoria te dice que no hay sucursal. Ya da el tipo de cambio en compra y venta. Cuando ya no quieres ayuda, no reconoce los comandos no,ni alto, siempre responde que no entiende lo que deseas...',\n",
       " 'Indispensable para usuarios BBVA Bancomer.   Un muy buen Skill para los usuarios de BBVA Bancomer, con servicios necesarios y eficientes.',\n",
       " 'Interesante e inovador.   Desde la aplicación es super fácil e intuitivo, jamas pensé que podría interactuar así con un banco',\n",
       " 'código postal.   no reconoce ninguna código postal para ubicar cajeros o sucursales.',\n",
       " 'Me gusto.   Espero que pongan mas funciones',\n",
       " 'pedir la información del tipo de cambio es un poco largo, incompleta e imprecisa.   Para pedir el tipo de cambio por ejemplo del dolar tienes que decir la frase completa y exacta,  por ejemplo: \"Alexa, Pregunta a BBVA Bancomer por el tio de cambio del dolar\" si no, no te da la información.  Preguntar por ejmplo: \"Alexa, dame el tipo de cambio del dolar\", te reponde que no entiende.Por otra parte la información del tipo de cambio que te da es el de COMPRA, solamente. Pero no te dice que es el valor de COMPRA. La mayoría de las veces nos interesa mas el precio de VENTA. Debería dar AMBAS informaciones y debería decir que tipo de cambio es el que está informando.Es buena, pero necesita mejorarse, para que sea mas sencillo y rápido de usar con las frases de pregunta, y con la precisión de las respuestas.',\n",
       " 'malo malo y malo.   Ni reconoce bbva Cúando lo digo',\n",
       " 'Falta Actualizar.   Aunque la intencion es buena, le faltan datos dentro de la skill para que pueda llegar a ser de gran uso a los usuarios. Sigue siendo de una app para consultas muy limitado. Saludos']"
      ]
     },
     "execution_count": 6,
     "metadata": {},
     "output_type": "execute_result"
    }
   ],
   "source": [
    "opiniones_bbva"
   ]
  },
  {
   "cell_type": "markdown",
   "metadata": {},
   "source": [
    "## Citibanamex"
   ]
  },
  {
   "cell_type": "code",
   "execution_count": 7,
   "metadata": {},
   "outputs": [
    {
     "name": "stdout",
     "output_type": "stream",
     "text": [
      "https://es.trustpilot.com/review/www.banamex.com\n",
      "Explorando paginas...\n",
      "Terminado!\n"
     ]
    }
   ],
   "source": [
    "URL_base_citibmx = \"https://es.trustpilot.com/review/www.banamex.com\"\n",
    "tag = \"p\"\n",
    "atributo = \"class\"\n",
    "value = \"review-content__text\"\n",
    "num_pags = 2\n",
    "opiniones_citibmx = get_opiniones(URL_base_citibmx, tag, atributo, value, num_pags,\"?page=\")"
   ]
  },
  {
   "cell_type": "code",
   "execution_count": 8,
   "metadata": {},
   "outputs": [],
   "source": [
    "len(opiniones_citibmx)\n",
    "opiniones_citibmx = [opiniones_citibmx[i].strip() for i in range(len(opiniones_citibmx))]"
   ]
  },
  {
   "cell_type": "markdown",
   "metadata": {},
   "source": [
    "## Santander"
   ]
  },
  {
   "cell_type": "code",
   "execution_count": 37,
   "metadata": {},
   "outputs": [],
   "source": [
    "# Con Rankia\n",
    "def find_Rankia_opinions(banco,url_base,pags_range,conn):\n",
    "    \"\"\"\n",
    "    Encuentra las opiniones relacionadas con el banco especifico en la pagina de Rankia referente al banco\n",
    "    args:\n",
    "        banco: nombre del banco\n",
    "        url_base: url donde hay opiniones de bancos en la pagina Rankia\n",
    "        pags_range: rango de indice de paginas en las cuales se va a examinar\n",
    "        conn: conector para explorar paginas\n",
    "    returns:\n",
    "        lista con opiniones referentes al banco especificado\n",
    "    \"\"\"\n",
    "    print(\"Explorando paginas...\")\n",
    "    opiniones = []\n",
    "    for i in pags_range:\n",
    "        URL = url_base + conn + str(i)\n",
    "        page = Request(URL,headers={'User-Agent': 'Mozilla/5.0'}) \n",
    "        infile= urllib.request.urlopen(page).read()\n",
    "        soup = BeautifulSoup(infile,\"html.parser\")#get_soup(url_base_sant,\"html.parser\")\n",
    "        ops_pg = soup.findAll(\"p\")\n",
    "        for j in range(len(ops_pg)):\n",
    "            if banco in ops_pg[j].text:\n",
    "                opiniones.append(ops_pg[j].text)\n",
    "    print(\"Terminado!\")\n",
    "    return opiniones\n",
    "        "
   ]
  },
  {
   "cell_type": "code",
   "execution_count": 38,
   "metadata": {},
   "outputs": [
    {
     "name": "stdout",
     "output_type": "stream",
     "text": [
      "Explorando paginas...\n",
      "Terminado!\n"
     ]
    }
   ],
   "source": [
    "banco = \"Santander\"\n",
    "URL_base_sant = \"https://www.rankia.mx/foros/bancos-cajas/temas/1764910-cual-mejor-banco-mexico\"\n",
    "pags_range = range(8,14)\n",
    "conn = \"?page=\"\n",
    "opiniones_sant = find_Rankia_opinions(banco,URL_base_sant,pags_range,conn)"
   ]
  },
  {
   "cell_type": "code",
   "execution_count": 41,
   "metadata": {},
   "outputs": [
    {
     "data": {
      "text/plain": [
       "['En la práctica, Bancomer ha sido el más flexible en todos los sentidos, tanto a nivel hipotecario, como en tema de productos crediticios y efectivos. Banorte, con la reestructuración con Ixe promete modificaciones para poder segmentar a sus cuentahabientes. Habrá que esperar al final del año para dar una apreciación mejor. En el caso de Santander... aunque la imagen corporativa se volvió de primer nivel, aún están luchando en la consolidación del mercado, corrigiendo ciertos detalles que lo mantienen en el nivel de crecimiento. Banamex es la pieza fuerte en México, pero no por ello es garantía de beneficio para sus clientes, sino más bien el proceder va en torno a su imagen institucional. El que viene también con fuerza es BanBajío.\\nEsta es mi humilde apreciación que espero te pueda ayudar.',\n",
       " 'Actualmente estoy con Santander y me gusta su servicio.',\n",
       " 'Pienso que el banco se elige así y considerando servicios como la protección que te dan en caso de robo de la tarjeta titular y que hagan uso de ella, en ese caso la mejor cobertura la tiene banamex que te protege hasta por 72 horas antes de tu reporte en las compras que no reconozcas, no así Santander por ejemplo que sólo te ampara las compras hechas a partir de que hayas hecho tu reporte, o sea que si antes te hicieron retiros no responde por ellos.',\n",
       " '2.- Tuve un credito\\xa0hipotecario que vencio, en mismo contrato se establecia\\xa0que al final de 30 años de pago el saldo deudor\\xa0se liquidaba. Santander sin previo aviso, tomo de mi cuenta de ahorro el saldo, por esta accion me di cuenta que habiase terminado mi hipoteca, solicite varias veces por escrito a Santader la devolucion de mi ahorro sin exito, tuve que demandarlos e inmediatamente me hicieron la devolucion.',\n",
       " '5.- Santander cobra comision por todo, por manejo de cuenta, por cheques, por internet, por consultas, etc.']"
      ]
     },
     "execution_count": 41,
     "metadata": {},
     "output_type": "execute_result"
    }
   ],
   "source": [
    "for o in opiniones_sant:\n",
    "    print(o)\n",
    "    print(\"=======================================\")"
   ]
  },
  {
   "cell_type": "code",
   "execution_count": 26,
   "metadata": {},
   "outputs": [],
   "source": [
    "# URL_base_sant = \"https://www.rankia.mx/foros/bancos-cajas/temas/1764910-cual-mejor-banco-mexico\"\n",
    "url_base_sant = \"https://www.rankia.mx/foros/bancos-cajas/temas/1764910-cual-mejor-banco-mexico?page=1\"\n",
    "page = Request(url_base_sant,headers={'User-Agent': 'Mozilla/5.0'}) \n",
    "infile= urllib.request.urlopen(page).read()\n",
    "soup = BeautifulSoup(infile,\"html.parser\")#get_soup(url_base_sant,\"html.parser\")\n",
    "\n"
   ]
  },
  {
   "cell_type": "code",
   "execution_count": 33,
   "metadata": {},
   "outputs": [],
   "source": [
    "opiniones_sant = []\n",
    "banco = \"Santander\"\n",
    "ops = soup.findAll(\"p\")\n",
    "for i in range(len(ops)):\n",
    "    if banco in ops[i].text:\n",
    "        opiniones_sant.append(ops[i].text)"
   ]
  },
  {
   "cell_type": "code",
   "execution_count": 35,
   "metadata": {},
   "outputs": [
    {
     "name": "stdout",
     "output_type": "stream",
     "text": [
      "2\n"
     ]
    },
    {
     "data": {
      "text/plain": [
       "'tag = \"p\"\\nn_pags = 13\\nconn = \"?page=\"\\nbanco = \"Santander\"\\nopiniones_sant = find_Rankia_opinions(banco,URL_base_sant,n_pags,conn)'"
      ]
     },
     "execution_count": 35,
     "metadata": {},
     "output_type": "execute_result"
    }
   ],
   "source": [
    "def get_Rankia_opinions(banco,url_base,pags_range):\n"
   ]
  },
  {
   "cell_type": "code",
   "execution_count": 24,
   "metadata": {},
   "outputs": [
    {
     "ename": "AttributeError",
     "evalue": "'bytes' object has no attribute 'p'",
     "output_type": "error",
     "traceback": [
      "\u001b[1;31m---------------------------------------------------------------------------\u001b[0m",
      "\u001b[1;31mAttributeError\u001b[0m                            Traceback (most recent call last)",
      "\u001b[1;32m<ipython-input-24-f2b9ece90b93>\u001b[0m in \u001b[0;36m<module>\u001b[1;34m\u001b[0m\n\u001b[1;32m----> 1\u001b[1;33m \u001b[0minfile\u001b[0m\u001b[1;33m.\u001b[0m\u001b[0mp\u001b[0m\u001b[1;33m\u001b[0m\u001b[1;33m\u001b[0m\u001b[0m\n\u001b[0m",
      "\u001b[1;31mAttributeError\u001b[0m: 'bytes' object has no attribute 'p'"
     ]
    }
   ],
   "source": [
    "infile.p"
   ]
  }
 ],
 "metadata": {
  "kernelspec": {
   "display_name": "Python 3",
   "language": "python",
   "name": "python3"
  },
  "language_info": {
   "codemirror_mode": {
    "name": "ipython",
    "version": 3
   },
   "file_extension": ".py",
   "mimetype": "text/x-python",
   "name": "python",
   "nbconvert_exporter": "python",
   "pygments_lexer": "ipython3",
   "version": "3.8.3"
  }
 },
 "nbformat": 4,
 "nbformat_minor": 4
}
