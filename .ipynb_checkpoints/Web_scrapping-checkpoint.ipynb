{
 "cells": [
  {
   "cell_type": "markdown",
   "metadata": {},
   "source": [
    "# Links de ayuda\n",
    "https://stackoverflow.com/questions/9662346/python-code-to-remove-html-tags-from-a-string"
   ]
  },
  {
   "cell_type": "markdown",
   "metadata": {},
   "source": [
    "## Objetivo:\n",
    "Implenetar codigo que permita obtener una valoracion de la percepción de las personas sobre BBVA y sus principales competidores.\n",
    "## Estructura\n",
    "1. Seleccionar las paginas donde creemos que encontraremos informacion valiosa de BBVA\n",
    "2. Extraer textos para cada una de estas páginas\n",
    "3. Preprocesar texto obtenido\n",
    "4. Realizar análisis de sentimiento"
   ]
  },
  {
   "cell_type": "markdown",
   "metadata": {},
   "source": [
    "## Apuntes\n",
    "- **Holding**: El holding es una forma de organización o agrupación de empresas en la que una compañía adquiere todas o la mayor parte de las acciones de otra empresa con el único fin de poseer el control total sobre la otra empresa.\n",
    "- **Pregunta: ¿Cómo percibe la sociedad a BBVA y qué impacto tienen las acciones que emprende en respuesta a la crisis ocasionada por el COVID-19?**\n",
    "- Van a entregar información estática para hacer el codigo\n",
    "- Evitar sesgos de donde se extraiga la informacion\n",
    "-  Innovación: 25%\n",
    "- Ejecucion: 40%\n",
    "- Resuelve la problematica: 25%\n",
    "- Usabilidad: 10%\n",
    "\n",
    "\n",
    "\n",
    "## Entrega\n",
    "- **Dashboard** en el cual podemos visualizar la percepción que tiene la sociedad de **BBVA** y de **nuestros principales competidores**\n",
    "- La escucha puede hacerse desde distintas perspectivas:( por segmento de clientes, por red social, por geografía)\n",
    "- **Metodología**: NLP y Sentiment analysis"
   ]
  },
  {
   "cell_type": "code",
   "execution_count": 127,
   "metadata": {},
   "outputs": [],
   "source": [
    "# paquete para leer archivos html\n",
    "import bs4\n",
    "# urllib es unpaquete para acceder a contenido de paginas por medio de URL\n",
    "from urllib.request import urlopen\n",
    "from bs4 import BeautifulSoup as soup\n",
    "\n",
    "import nltk"
   ]
  },
  {
   "cell_type": "code",
   "execution_count": 116,
   "metadata": {},
   "outputs": [],
   "source": [
    "url_opiniones = \"https://www.helpmycash.com/opiniones/banco/bbva/\"\n",
    "# Abre la conexion para alcanzar la página y descargarla\n",
    "uClient = uReq(url_opiniones)\n",
    "\n",
    "def get_soup(url,pars):\n",
    "    \"\"\"\n",
    "    Retorna una sopa de caracteres de la pagina leída en formato especificado\n",
    "    args:\n",
    "        url: url de la pagina\n",
    "        pars: string de tipo de formato en el cual se va a leer la pagina (html o xml)\n",
    "    returns:\n",
    "        objeto de tipo BeautifulSoup con su contenido\n",
    "    \"\"\"\n",
    "    #myURL = url\n",
    "    uClient = urlopen(url)\n",
    "    page = uClient.read()\n",
    "    uClient.close()\n",
    "    page_soup = soup(page,pars)\n",
    "    return page_soup"
   ]
  },
  {
   "cell_type": "code",
   "execution_count": 109,
   "metadata": {},
   "outputs": [],
   "source": [
    "page_html = uClient.read()\n",
    "# Cerramos el cliente\n",
    "uClient.close()"
   ]
  },
  {
   "cell_type": "code",
   "execution_count": 117,
   "metadata": {},
   "outputs": [],
   "source": [
    "page_soup = get_soup(url_opiniones,\"html.parser\")"
   ]
  },
  {
   "cell_type": "code",
   "execution_count": 118,
   "metadata": {},
   "outputs": [],
   "source": [
    "# seleccionamos la lectura (podria ser xml parser)\n",
    "#page_soup = soup(page_html,\"html.parser\")"
   ]
  },
  {
   "cell_type": "code",
   "execution_count": 119,
   "metadata": {},
   "outputs": [],
   "source": [
    "#bar_content=page_soup.findAll(\"p\",{\"style\":\"text-align: justify;\"})\n",
    "tag = \"div\"\n",
    "atributo = \"class\"\n",
    "value = \"card-text my-3 mt-sm-0 px-0 px-sm-4\"\n",
    "opiniones = page_soup.findAll(tag,{atributo:value})"
   ]
  },
  {
   "cell_type": "code",
   "execution_count": 120,
   "metadata": {},
   "outputs": [
    {
     "data": {
      "text/plain": [
       "20"
      ]
     },
     "execution_count": 120,
     "metadata": {},
     "output_type": "execute_result"
    }
   ],
   "source": [
    "len(opiniones)"
   ]
  },
  {
   "cell_type": "code",
   "execution_count": 121,
   "metadata": {},
   "outputs": [],
   "source": [
    "info = []\n",
    "split_text = []\n",
    "for i in range(len(opiniones)):\n",
    "    contenido = opiniones[i].text\n",
    "    if contenido != \"\":\n",
    "        #print(contenido)\n",
    "        info.append(contenido)\n",
    "        \n",
    "        #print(\"================================================\")"
   ]
  },
  {
   "cell_type": "code",
   "execution_count": 132,
   "metadata": {},
   "outputs": [
    {
     "name": "stdout",
     "output_type": "stream",
     "text": [
      "['\\nOpinión', 'sobre', 'Cuenta', 'Online', 'Sin', 'Comisiones\\n\\n', 'Incompetentes,', 'Mi', 'pareja', 'obtuvo', 'la', 'nacionalidad,', 'y', 'lleva', '4', 'meses', 'intentanto', 'le', 'cambien', 'el', 'NIE', 'por', 'el', 'DNI', 'y', 'no', 'lo', 'ha', 'logrado,', 'online', 'no', 'se', 'lo', 'resuelven', 'y', 'la', 'mandan', 'a', 'digitalizar', 'el', 'DNI', 'a', 'a', 'oficina', 'fisica,', 'donde', 'no', 'se', 'lo', 'quieren', 'hacer', 'por', 'no', 'tener', 'cita', 'que', 'debe', 'obtener', 'a', 'traves', 'de', 'su', 'gestor', 'online', 'que', 'nunca', 'la', 'llama', 'ni', 'se', 'la', 'da.', 'Muy', 'facil', 'abrir', 'una', 'cuenta,', 'no', 'hace', 'falta', 'digitalizar', 'y', 'ahora', 'es', 'imposible.', 'Solucion,', 'cerramos', 'la', 'cuenta', 'y', 'que', 'les', '****\\n']\n"
     ]
    }
   ],
   "source": [
    "a = info[0].split(\" \")\n",
    "a = [word for word in a if word != \"\"]\n",
    "print(a)"
   ]
  }
 ],
 "metadata": {
  "kernelspec": {
   "display_name": "Python 3",
   "language": "python",
   "name": "python3"
  },
  "language_info": {
   "codemirror_mode": {
    "name": "ipython",
    "version": 3
   },
   "file_extension": ".py",
   "mimetype": "text/x-python",
   "name": "python",
   "nbconvert_exporter": "python",
   "pygments_lexer": "ipython3",
   "version": "3.8.3"
  }
 },
 "nbformat": 4,
 "nbformat_minor": 4
}
