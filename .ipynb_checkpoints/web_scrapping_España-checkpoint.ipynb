{
 "cells": [
  {
   "cell_type": "code",
   "execution_count": 15,
   "metadata": {},
   "outputs": [],
   "source": [
    "# paquete para leer archivos html\n",
    "import bs4\n",
    "# urllib es unpaquete para acceder a contenido de paginas por medio de URL\n",
    "from urllib.request import urlopen\n",
    "from bs4 import BeautifulSoup as soup\n",
    "\n",
    "import nltk\n",
    "\n",
    "import numpy as np\n",
    "import pandas as pd"
   ]
  },
  {
   "cell_type": "markdown",
   "metadata": {},
   "source": [
    "# Recopilando las opiniones en HelpMyCash"
   ]
  },
  {
   "cell_type": "code",
   "execution_count": 27,
   "metadata": {},
   "outputs": [],
   "source": [
    "## Funciones auxiliares\n",
    "def get_soup(url,pars):\n",
    "    \"\"\"\n",
    "    Retorna una sopa de caracteres de la pagina leída en formato especificado\n",
    "    args:\n",
    "        url: url de la pagina\n",
    "        pars: string de tipo de formato en el cual se va a leer la pagina (html o xml)\n",
    "    returns:\n",
    "        objeto de tipo BeautifulSoup con su contenido\n",
    "    \"\"\"\n",
    "    #myURL = url\n",
    "    uClient = urlopen(url)\n",
    "    page = uClient.read()\n",
    "    uClient.close()\n",
    "    page_soup = BeautifulSoup(page,pars)\n",
    "    return page_soup"
   ]
  },
  {
   "cell_type": "code",
   "execution_count": 11,
   "metadata": {},
   "outputs": [],
   "source": [
    "def get_opiniones_HMC(url_base,tag,atributo,valor,n_pags):\n",
    "    \"\"\"\n",
    "    Consigue todas las opiniones de una URL de la pagina HelpMyCash\n",
    "    \n",
    "    args:\n",
    "        url_base: url base que se concatena con el indice de la pagina\n",
    "        tag: etiqueta del html donde se encuentra el texto buscado\n",
    "        atributo: atributo del objeto con etiqueta tag\n",
    "        valor: valor del atributo\n",
    "        n_pags: numero maximo de paginas de comentarios maximo a considerar\n",
    "    \n",
    "    returns:\n",
    "        lista con opiniones\n",
    "    \"\"\"\n",
    "    print(url_base)\n",
    "    opiniones = []\n",
    "    print(\"Explorando paginas...\")\n",
    "    for i in range(1,n_pags+1):\n",
    "        #print(\"Pagina: \",i)\n",
    "        URL = url_base+\"?page=\"+str(i)\n",
    "        soup = get_soup(URL,\"html.parser\")\n",
    "        ops_pg = soup.findAll(tag,{atributo:value})\n",
    "        for op in ops_pg:\n",
    "            opiniones.append(op.text.replace('\\n',''))\n",
    "        #print(\"========================================\")    \n",
    "    print(\"Terminado!\")\n",
    "    return opiniones\n",
    "        "
   ]
  },
  {
   "cell_type": "markdown",
   "metadata": {},
   "source": [
    "## BBVA"
   ]
  },
  {
   "cell_type": "code",
   "execution_count": 7,
   "metadata": {},
   "outputs": [
    {
     "name": "stdout",
     "output_type": "stream",
     "text": [
      "https://www.helpmycash.com/opiniones/banco/bbva/\n",
      "Pagina:  1\n",
      "========================================\n",
      "Pagina:  2\n",
      "========================================\n",
      "Pagina:  3\n",
      "========================================\n",
      "Pagina:  4\n",
      "========================================\n",
      "Pagina:  5\n",
      "========================================\n",
      "Pagina:  6\n",
      "========================================\n",
      "Pagina:  7\n",
      "========================================\n",
      "Pagina:  8\n",
      "========================================\n",
      "Pagina:  9\n",
      "========================================\n",
      "Pagina:  10\n",
      "========================================\n"
     ]
    }
   ],
   "source": [
    "URL_base_bbva = \"https://www.helpmycash.com/opiniones/banco/bbva/\"\n",
    "tag = \"div\"\n",
    "atributo = \"class\"\n",
    "value = \"card-text my-3 mt-sm-0 px-0 px-sm-4\"\n",
    "num_pags = 10\n",
    "opiniones_BBVA = get_opiniones_HMC(URL_base_bbva, tag, atributo, value, num_pags)"
   ]
  },
  {
   "cell_type": "code",
   "execution_count": 8,
   "metadata": {},
   "outputs": [
    {
     "data": {
      "text/plain": [
       "'Opinión sobre Oficina 4460 en Morón de la Frontera                                    El peor bbva de Espana gestores que se ríen de ti el director desde que cambiaron es un desastre no is recomiendo este banco BBVA de **** además se ríen te hablan mal y se cachondean lo digo con comentarios guardados por mi                                '"
      ]
     },
     "execution_count": 8,
     "metadata": {},
     "output_type": "execute_result"
    }
   ],
   "source": [
    "opiniones_BBVA[0]"
   ]
  },
  {
   "cell_type": "markdown",
   "metadata": {},
   "source": [
    "## Banco ING"
   ]
  },
  {
   "cell_type": "code",
   "execution_count": 9,
   "metadata": {},
   "outputs": [
    {
     "name": "stdout",
     "output_type": "stream",
     "text": [
      "https://www.helpmycash.com/opiniones/banco/ing/\n",
      "Pagina:  1\n",
      "========================================\n",
      "Pagina:  2\n",
      "========================================\n",
      "Pagina:  3\n",
      "========================================\n",
      "Pagina:  4\n",
      "========================================\n",
      "Pagina:  5\n",
      "========================================\n"
     ]
    }
   ],
   "source": [
    "URL_base_ING = \"https://www.helpmycash.com/opiniones/banco/ing/\"\n",
    "tag = \"div\"\n",
    "atributo = \"class\"\n",
    "value = \"card-text my-3 mt-sm-0 px-0 px-sm-4\"\n",
    "num_pags = 10\n",
    "opiniones_ING = get_opiniones_HMC(URL_base_ING, tag, atributo, value, num_pags)"
   ]
  },
  {
   "cell_type": "markdown",
   "metadata": {},
   "source": [
    "## Bankia\n"
   ]
  },
  {
   "cell_type": "code",
   "execution_count": 13,
   "metadata": {},
   "outputs": [
    {
     "name": "stdout",
     "output_type": "stream",
     "text": [
      "https://www.helpmycash.com/opiniones/banco/bankia/\n",
      "Explorando paginas...\n",
      "Terminado!\n"
     ]
    }
   ],
   "source": [
    "URL_base_bankia = \"https://www.helpmycash.com/opiniones/banco/bankia/\"\n",
    "tag = \"div\"\n",
    "atributo = \"class\"\n",
    "value = \"card-text my-3 mt-sm-0 px-0 px-sm-4\"\n",
    "num_pags = 10\n",
    "opiniones_bankia = get_opiniones_HMC(URL_base_bankia, tag, atributo, value, num_pags)"
   ]
  },
  {
   "cell_type": "markdown",
   "metadata": {},
   "source": [
    "## Pasando información a dataframes"
   ]
  },
  {
   "cell_type": "code",
   "execution_count": 16,
   "metadata": {},
   "outputs": [],
   "source": []
  },
  {
   "cell_type": "code",
   "execution_count": 20,
   "metadata": {},
   "outputs": [],
   "source": [
    "opiniones_ESP = np.array(opiniones_BBVA+opiniones_ING+opiniones_bankia)\n",
    "df_esp = pd.DataFrame(opiniones_ESP,columns=['opinion'])\n",
    "df_esp['banco'] = np.array(len(opiniones_BBVA)*[\"BBVA\"]+len(opiniones_ING)*[\"ING\"]+len(opiniones_bankia)*[\"Bankia\"])\n",
    "df_esp[\"pais\"] = (len(opiniones_BBVA)+len(opiniones_ING)+len(opiniones_bankia))*[\"España\"]"
   ]
  },
  {
   "cell_type": "code",
   "execution_count": 24,
   "metadata": {},
   "outputs": [
    {
     "data": {
      "text/html": [
       "<div>\n",
       "<style scoped>\n",
       "    .dataframe tbody tr th:only-of-type {\n",
       "        vertical-align: middle;\n",
       "    }\n",
       "\n",
       "    .dataframe tbody tr th {\n",
       "        vertical-align: top;\n",
       "    }\n",
       "\n",
       "    .dataframe thead th {\n",
       "        text-align: right;\n",
       "    }\n",
       "</style>\n",
       "<table border=\"1\" class=\"dataframe\">\n",
       "  <thead>\n",
       "    <tr style=\"text-align: right;\">\n",
       "      <th></th>\n",
       "      <th>opinion</th>\n",
       "      <th>banco</th>\n",
       "      <th>pais</th>\n",
       "    </tr>\n",
       "  </thead>\n",
       "  <tbody>\n",
       "    <tr>\n",
       "      <th>0</th>\n",
       "      <td>Opinión sobre Oficina 4460 en Morón de la Fron...</td>\n",
       "      <td>BBVA</td>\n",
       "      <td>España</td>\n",
       "    </tr>\n",
       "    <tr>\n",
       "      <th>1</th>\n",
       "      <td>Opinión sobre BBVA                            ...</td>\n",
       "      <td>BBVA</td>\n",
       "      <td>España</td>\n",
       "    </tr>\n",
       "    <tr>\n",
       "      <th>2</th>\n",
       "      <td>Opinión sobre Cuenta Online Sin Comisiones    ...</td>\n",
       "      <td>BBVA</td>\n",
       "      <td>España</td>\n",
       "    </tr>\n",
       "    <tr>\n",
       "      <th>3</th>\n",
       "      <td>Opinión sobre BBVA                            ...</td>\n",
       "      <td>BBVA</td>\n",
       "      <td>España</td>\n",
       "    </tr>\n",
       "    <tr>\n",
       "      <th>4</th>\n",
       "      <td>Opinión sobre Oficina 9095 en Collado Villalba...</td>\n",
       "      <td>BBVA</td>\n",
       "      <td>España</td>\n",
       "    </tr>\n",
       "  </tbody>\n",
       "</table>\n",
       "</div>"
      ],
      "text/plain": [
       "                                             opinion banco    pais\n",
       "0  Opinión sobre Oficina 4460 en Morón de la Fron...  BBVA  España\n",
       "1  Opinión sobre BBVA                            ...  BBVA  España\n",
       "2  Opinión sobre Cuenta Online Sin Comisiones    ...  BBVA  España\n",
       "3  Opinión sobre BBVA                            ...  BBVA  España\n",
       "4  Opinión sobre Oficina 9095 en Collado Villalba...  BBVA  España"
      ]
     },
     "execution_count": 24,
     "metadata": {},
     "output_type": "execute_result"
    }
   ],
   "source": [
    "df_esp.head()"
   ]
  }
 ],
 "metadata": {
  "kernelspec": {
   "display_name": "Python 3",
   "language": "python",
   "name": "python3"
  },
  "language_info": {
   "codemirror_mode": {
    "name": "ipython",
    "version": 3
   },
   "file_extension": ".py",
   "mimetype": "text/x-python",
   "name": "python",
   "nbconvert_exporter": "python",
   "pygments_lexer": "ipython3",
   "version": "3.8.3"
  }
 },
 "nbformat": 4,
 "nbformat_minor": 4
}
