{
 "cells": [
  {
   "cell_type": "code",
   "execution_count": 1,
   "metadata": {},
   "outputs": [],
   "source": [
    "# paquete para leer archivos html\n",
    "import bs4\n",
    "# urllib es unpaquete para acceder a contenido de paginas por medio de URL\n",
    "from urllib.request import urlopen\n",
    "from bs4 import BeautifulSoup\n",
    "\n",
    "import numpy as np\n",
    "import pandas as pd"
   ]
  },
  {
   "cell_type": "code",
   "execution_count": 2,
   "metadata": {},
   "outputs": [],
   "source": [
    "## Funciones auxiliares\n",
    "def get_soup(url,pars):\n",
    "    \"\"\"\n",
    "    Retorna una sopa de caracteres de la pagina leída en formato especificado\n",
    "    args:\n",
    "        url: url de la pagina\n",
    "        pars: string de tipo de formato en el cual se va a leer la pagina (html o xml)\n",
    "    returns:\n",
    "        objeto de tipo BeautifulSoup con su contenido\n",
    "    \"\"\"\n",
    "    #myURL = url\n",
    "    uClient = urlopen(url)\n",
    "    page = uClient.read()\n",
    "    uClient.close()\n",
    "    page_soup = BeautifulSoup(page,pars)\n",
    "    return page_soup\n",
    "\n",
    "\n",
    "def get_opiniones(url_base,tag,atributo,valor,n_pags,conn):\n",
    "    \"\"\"\n",
    "    Consigue todas las opiniones de una URL del foro\n",
    "    \n",
    "    args:\n",
    "        url_base: url base que se concatena con el indice de la pagina\n",
    "        tag: etiqueta del html donde se encuentra el texto buscado\n",
    "        atributo: atributo del objeto con etiqueta tag\n",
    "        valor: valor del atributo\n",
    "        n_pags: numero maximo de paginas de comentarios maximo a considerar\n",
    "    \n",
    "    returns:\n",
    "        lista con opiniones\n",
    "    \"\"\"\n",
    "    print(url_base)\n",
    "    opiniones = []\n",
    "    print(\"Explorando paginas...\")\n",
    "    for i in range(1,n_pags+1):\n",
    "        #print(\"Pagina: \",i)\n",
    "        URL = url_base + conn + str(i) # \"?page=\" o \n",
    "        soup = get_soup(URL,\"html.parser\")\n",
    "        ops_pg = soup.findAll(tag,{atributo:value})\n",
    "        for op in ops_pg:\n",
    "            opiniones.append(op.text.replace('\\n',''))\n",
    "        #print(\"========================================\")    \n",
    "    print(\"Terminado!\")\n",
    "    return opiniones\n"
   ]
  },
  {
   "cell_type": "markdown",
   "metadata": {},
   "source": [
    "## BBVA"
   ]
  },
  {
   "cell_type": "code",
   "execution_count": 16,
   "metadata": {},
   "outputs": [],
   "source": [
    "url_bbva = \"https://www.amazon.com.mx/BBVA-Bancomer-BBVA-Bancomer/product-reviews/B07K7X7JFP\"\n",
    "soup = get_soup(url_bbva,\"html.parser\")"
   ]
  },
  {
   "cell_type": "code",
   "execution_count": 17,
   "metadata": {},
   "outputs": [
    {
     "name": "stdout",
     "output_type": "stream",
     "text": [
      "0\n"
     ]
    }
   ],
   "source": [
    "tag1 = \"a\"\n",
    "atributo1 = \"data-hook\"\n",
    "valor1 = \"review-title\"\n",
    "\n",
    "tag2 = \"span\"\n",
    "atributo2 = \"class\"\n",
    "valor2 = \"a-size-base review-text review-text-content\"\n",
    "\n",
    "\n",
    "opiniones_bbva = []\n",
    "\n",
    "ops_bbva_1 = soup.findAll(tag1,{atributo1:valor1})\n",
    "ops_bbva_2 = soup.findAll(tag2,{atributo2:valor2})\n",
    "print(len(opiniones_bbva))"
   ]
  },
  {
   "cell_type": "code",
   "execution_count": 18,
   "metadata": {},
   "outputs": [],
   "source": [
    "# Correr una sola vez sino desde celdas de arriba\n",
    "for i in range(len(ops_bbva_1)):\n",
    "    opiniones_bbva.append(ops_bbva_1[i].text + \". \" + ops_bbva_2[i].text)\n",
    "    \n",
    "opiniones_bbva = [o.replace('\\n','') for o in opiniones_bbva]"
   ]
  },
  {
   "cell_type": "code",
   "execution_count": 20,
   "metadata": {},
   "outputs": [
    {
     "name": "stdout",
     "output_type": "stream",
     "text": [
      "10\n",
      "['Me encanta! Puedo obtener el tipo de cambio rápidamente..   Puedo obtener el tipo de cambio rápidamente y me da tips financieros.', 'BBVA el banco digital.   Excelente skill, puedes mantenerte al día de indicadores bancarios de inmediato. Se debería poder hacer parte de las rutinas y deberían agregar más funciones', 'mala ubicacion de sucursales.   Solo reconoce algunos c.p. En la mayoria te dice que no hay sucursal. Ya da el tipo de cambio en compra y venta. Cuando ya no quieres ayuda, no reconoce los comandos no,ni alto, siempre responde que no entiende lo que deseas...', 'Indispensable para usuarios BBVA Bancomer.   Un muy buen Skill para los usuarios de BBVA Bancomer, con servicios necesarios y eficientes.', 'Interesante e inovador.   Desde la aplicación es super fácil e intuitivo, jamas pensé que podría interactuar así con un banco', 'código postal.   no reconoce ninguna código postal para ubicar cajeros o sucursales.', 'Me gusto.   Espero que pongan mas funciones', 'pedir la información del tipo de cambio es un poco largo, incompleta e imprecisa.   Para pedir el tipo de cambio por ejemplo del dolar tienes que decir la frase completa y exacta,  por ejemplo: \"Alexa, Pregunta a BBVA Bancomer por el tio de cambio del dolar\" si no, no te da la información.  Preguntar por ejmplo: \"Alexa, dame el tipo de cambio del dolar\", te reponde que no entiende.Por otra parte la información del tipo de cambio que te da es el de COMPRA, solamente. Pero no te dice que es el valor de COMPRA. La mayoría de las veces nos interesa mas el precio de VENTA. Debería dar AMBAS informaciones y debería decir que tipo de cambio es el que está informando.Es buena, pero necesita mejorarse, para que sea mas sencillo y rápido de usar con las frases de pregunta, y con la precisión de las respuestas.', 'malo malo y malo.   Ni reconoce bbva Cúando lo digo', 'Falta Actualizar.   Aunque la intencion es buena, le faltan datos dentro de la skill para que pueda llegar a ser de gran uso a los usuarios. Sigue siendo de una app para consultas muy limitado. Saludos']\n"
     ]
    }
   ],
   "source": [
    "print(len(opiniones_bbva))\n",
    "print(opiniones_bbva)"
   ]
  },
  {
   "cell_type": "markdown",
   "metadata": {},
   "source": [
    "## Citibanamex"
   ]
  },
  {
   "cell_type": "code",
   "execution_count": null,
   "metadata": {},
   "outputs": [],
   "source": []
  },
  {
   "cell_type": "markdown",
   "metadata": {},
   "source": [
    "## Santander"
   ]
  },
  {
   "cell_type": "code",
   "execution_count": null,
   "metadata": {},
   "outputs": [],
   "source": []
  }
 ],
 "metadata": {
  "kernelspec": {
   "display_name": "Python 3",
   "language": "python",
   "name": "python3"
  },
  "language_info": {
   "codemirror_mode": {
    "name": "ipython",
    "version": 3
   },
   "file_extension": ".py",
   "mimetype": "text/x-python",
   "name": "python",
   "nbconvert_exporter": "python",
   "pygments_lexer": "ipython3",
   "version": "3.8.3"
  }
 },
 "nbformat": 4,
 "nbformat_minor": 4
}
